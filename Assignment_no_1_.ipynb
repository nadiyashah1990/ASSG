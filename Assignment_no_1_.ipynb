{
  "nbformat": 4,
  "nbformat_minor": 0,
  "metadata": {
    "colab": {
      "provenance": []
    },
    "kernelspec": {
      "name": "python3",
      "display_name": "Python 3"
    },
    "language_info": {
      "name": "python"
    }
  },
  "cells": [
    {
      "cell_type": "markdown",
      "source": [
        "\n",
        "# QUESTION 1: EXPLAIN KEY FEATURES OF PYTHON THAT MAKE IT POPULAR CHOICE OF PROGRAMMING?\n",
        "ANSWER: THE KEY FEATURES OF PYTHON THAT MAKE IT POPULAR CHOICE OF PROGRAMMING IS,\n",
        "1. PYTHON HAS A CLEAN AND EASY TO READ SYNTAX, MAKING IT BEGINNER-FRIENDLY AND IDEAL FOR THOSE NEW TO PROGRAMMING.\n",
        "2. PYTHON DOES NOT NEED TO BE COMPILED BEFORE EXECUTION .PYTHON INTERPRETER EXECUTES CODE LINE BY LINE, WHICH SIMPLIFIES DEBUGGING.\n",
        "3. PYTHON HAS A RICH STANDARD LIBRARY THAT SUPPORTS MANY COMMON TASKS SUCH AS FILE HANDLING, AND NETWORKING .\n",
        "4.PYTHON CAN RUN ON VARIOUS OPERATING SYSTEMS LIKE WINDOWS, MACOS, WITHOUT REQUIRING CHANGES TO THE CODE.\n",
        "\n",
        "# QUESTION 2: DESCRIBE THE ROLE OF PREDEFINED KEYWORD AND PROVIDE EXAMPLE OF HOW THEY ARE USED IN PYTHON?\n",
        "ANSWER: THE ROLE OF PREDEFINED KEYWORD ARE\n",
        "1. KEYWORDS LIKE IF,ELSE, ELIF, WHILE, AND FOR ARE USED TO CONTROL THE FLOW OF THE PROGRAM BASED ON CERTAIN CONDITIONS.\n",
        "2. KEYWORDS LIKE TRY, EXCEPT, FINALLY, AND RAISE ARE USED FOR HANDLING ERRORS AND EXCEPTIONS.\n",
        "3. KEYWORDS LIKE IMPORT, FROM, AS, WITH ARE USED TO MANAGE IMPORTS AND IN ARE USED IN LOGICAL OPERATIONS.\n",
        "4. KEYWORDS LIKE IS, NONE, TRUE, AND FALSE ARE USED FOR CHECKING OBJECT IDENTITY AND WORKING WITH BOOLEAN VALUES.\n",
        " EXAMPLES OF KEYWORDS IN USE;\n",
        "\n",
        "\n"
      ],
      "metadata": {
        "id": "8UtgBhI2yh28"
      }
    },
    {
      "cell_type": "code",
      "source": [
        "I=[3,4,\"PWSKILLS\",\"AJAY\"]\n",
        "for i in I:\n",
        "    print(i)\n"
      ],
      "metadata": {
        "colab": {
          "base_uri": "https://localhost:8080/"
        },
        "id": "ENpmmd9R705a",
        "outputId": "8c2d3ed1-88e2-4e32-a35e-23c99fe3bd7f"
      },
      "execution_count": null,
      "outputs": [
        {
          "output_type": "stream",
          "name": "stdout",
          "text": [
            "3\n",
            "4\n",
            "PWSKILLS\n",
            "AJAY\n"
          ]
        }
      ]
    },
    {
      "cell_type": "markdown",
      "source": [],
      "metadata": {
        "id": "SLiDDleH2Fhb"
      }
    },
    {
      "cell_type": "code",
      "source": [
        "A=[1,5,\"riya\",\"moon\",]\n",
        "for i in A:\n",
        "    print(i)"
      ],
      "metadata": {
        "colab": {
          "base_uri": "https://localhost:8080/"
        },
        "id": "IA9xX18Y1z42",
        "outputId": "548a59b8-18b9-446a-fb8d-c4cb0fe6e521"
      },
      "execution_count": null,
      "outputs": [
        {
          "output_type": "stream",
          "name": "stdout",
          "text": [
            "1\n",
            "5\n",
            "riya\n",
            "moon\n"
          ]
        }
      ]
    },
    {
      "cell_type": "markdown",
      "source": [
        "# QUESTION 3; COMPARE AND CONTRAST OF MUTABLE AND IMMUTABLE OBJECTS IN PYTHON WITH EXAMPLES?\n",
        "ANSWER: MUTABLE OBJECTS ARE THOSE WHOSE VALUES CAN BE CHANGED AFTER THEY ARE CREATED. THIS MANS WE CAN MODIFY, UPDATE OR ALTER THE CONTENT OF THE OBJECT WITHOUT CHANGING ITS IDENTITY. EXAMPLES ARE LIST, DICT., SETS."
      ],
      "metadata": {
        "id": "y0G_dbOiCBm_"
      }
    },
    {
      "cell_type": "markdown",
      "source": [],
      "metadata": {
        "id": "FFfFC5caB-jH"
      }
    },
    {
      "cell_type": "code",
      "source": [
        "Li=[2,3,\"PWSKILLS\"]\n",
        "Li"
      ],
      "metadata": {
        "id": "Wm3ZxilzCMLN",
        "colab": {
          "base_uri": "https://localhost:8080/"
        },
        "outputId": "28efef70-89f4-49f7-f02c-32574e1b64a8"
      },
      "execution_count": null,
      "outputs": [
        {
          "output_type": "execute_result",
          "data": {
            "text/plain": [
              "[2, 3, 'PWSKILLS']"
            ]
          },
          "metadata": {},
          "execution_count": 1
        }
      ]
    },
    {
      "cell_type": "code",
      "source": [
        "Li[0]=25\n",
        "Li[2]=50\n",
        "Li"
      ],
      "metadata": {
        "id": "lkdMhAF012qa",
        "colab": {
          "base_uri": "https://localhost:8080/"
        },
        "outputId": "4cd7e7cd-23d9-4cde-8604-26a9b1bb8bf5"
      },
      "execution_count": null,
      "outputs": [
        {
          "output_type": "execute_result",
          "data": {
            "text/plain": [
              "[25, 3, 50]"
            ]
          },
          "metadata": {},
          "execution_count": 2
        }
      ]
    },
    {
      "cell_type": "code",
      "source": [
        "Li=[\"APPLE\",\"AJAY\",\"2\"]\n",
        "Li"
      ],
      "metadata": {
        "colab": {
          "base_uri": "https://localhost:8080/"
        },
        "id": "GyYHC93SIwIW",
        "outputId": "e2f8960c-02f7-4221-f8ec-d5b21de71e10"
      },
      "execution_count": null,
      "outputs": [
        {
          "output_type": "execute_result",
          "data": {
            "text/plain": [
              "['APPLE', 'AJAY', '2']"
            ]
          },
          "metadata": {},
          "execution_count": 7
        }
      ]
    },
    {
      "cell_type": "markdown",
      "source": [
        "IMMUTABLE OJECTS: IMMUTABLE OBJECTS ARE THOSE WHOSE STATE OR VALUE CANNOT BE CHANGED AFTER THEY ARE CREATED.ANY ATTEMPT TO ALTER THEIR VALUE WILL RESULT IN THE CREATION OF A NEW OBJECT.\n"
      ],
      "metadata": {
        "id": "vsMghgyd150O"
      }
    },
    {
      "cell_type": "code",
      "source": [
        "Li=\"PWSKILLS\"\n",
        "Li\n",
        "\n"
      ],
      "metadata": {
        "id": "GvyMToVl167J",
        "colab": {
          "base_uri": "https://localhost:8080/",
          "height": 35
        },
        "outputId": "d8d3f79b-a904-49ea-c78f-c36674d6f4d1"
      },
      "execution_count": null,
      "outputs": [
        {
          "output_type": "execute_result",
          "data": {
            "text/plain": [
              "'PWSKILLS'"
            ],
            "application/vnd.google.colaboratory.intrinsic+json": {
              "type": "string"
            }
          },
          "metadata": {},
          "execution_count": 8
        }
      ]
    },
    {
      "cell_type": "code",
      "source": [
        "Li=\"APPLE\", \"SUN\"\n",
        "Li\n"
      ],
      "metadata": {
        "id": "qZ9oFIvd9YBv",
        "colab": {
          "base_uri": "https://localhost:8080/"
        },
        "outputId": "95a026ba-ff77-4bf4-cef1-5d898c068758"
      },
      "execution_count": null,
      "outputs": [
        {
          "output_type": "execute_result",
          "data": {
            "text/plain": [
              "('APPLE', 'SUN')"
            ]
          },
          "metadata": {},
          "execution_count": 10
        }
      ]
    },
    {
      "cell_type": "code",
      "source": [
        "Li[0]=0\n",
        "Li"
      ],
      "metadata": {
        "colab": {
          "base_uri": "https://localhost:8080/",
          "height": 159
        },
        "id": "QtcQh3FFKNEL",
        "outputId": "d2c38f4f-01f8-4b22-de88-78f592f76ea5"
      },
      "execution_count": null,
      "outputs": [
        {
          "output_type": "error",
          "ename": "TypeError",
          "evalue": "'tuple' object does not support item assignment",
          "traceback": [
            "\u001b[0;31m---------------------------------------------------------------------------\u001b[0m",
            "\u001b[0;31mTypeError\u001b[0m                                 Traceback (most recent call last)",
            "\u001b[0;32m<ipython-input-11-842c703b0a42>\u001b[0m in \u001b[0;36m<cell line: 1>\u001b[0;34m()\u001b[0m\n\u001b[0;32m----> 1\u001b[0;31m \u001b[0mLi\u001b[0m\u001b[0;34m[\u001b[0m\u001b[0;36m0\u001b[0m\u001b[0;34m]\u001b[0m\u001b[0;34m=\u001b[0m\u001b[0;36m0\u001b[0m\u001b[0;34m\u001b[0m\u001b[0;34m\u001b[0m\u001b[0m\n\u001b[0m\u001b[1;32m      2\u001b[0m \u001b[0mLi\u001b[0m\u001b[0;34m\u001b[0m\u001b[0;34m\u001b[0m\u001b[0m\n",
            "\u001b[0;31mTypeError\u001b[0m: 'tuple' object does not support item assignment"
          ]
        }
      ]
    },
    {
      "cell_type": "markdown",
      "source": [
        "QUESTION 4: DISCUSS THE TYPES OF DIFFERENT OPERATORS IN PYTHON AND PROVIDE EXAMPLES OF HOW THEY ARE USED?\n",
        "ANSWER: TYPES OF OPERATORS IN PYTHON.\n",
        "1. ARITHMETIC OPERATORS: THESE OPERATORS ARE USED TO PERFORM MATHEMATICAL OPERATIONS LIKE ADDITION, SUBSTRACTION, MULTIPLICATION, ETC."
      ],
      "metadata": {
        "id": "jB3NOHilKjfz"
      }
    },
    {
      "cell_type": "markdown",
      "source": [
        "ADDITION"
      ],
      "metadata": {
        "id": "YGuweXHNOEDQ"
      }
    },
    {
      "cell_type": "code",
      "source": [
        "A=10\n",
        "B=5\n",
        "A+B"
      ],
      "metadata": {
        "id": "Ql9_bT7HKiHA",
        "colab": {
          "base_uri": "https://localhost:8080/"
        },
        "outputId": "1b7cd3f8-334f-4a8e-9dc1-3402e8301481"
      },
      "execution_count": null,
      "outputs": [
        {
          "output_type": "execute_result",
          "data": {
            "text/plain": [
              "15"
            ]
          },
          "metadata": {},
          "execution_count": 14
        }
      ]
    },
    {
      "cell_type": "markdown",
      "source": [
        "SUBSTRACTION"
      ],
      "metadata": {
        "id": "eCVce-gkOReX"
      }
    },
    {
      "cell_type": "code",
      "source": [
        "A=10\n",
        "B=4\n",
        "A-B"
      ],
      "metadata": {
        "id": "cxEebHZTKe3W",
        "colab": {
          "base_uri": "https://localhost:8080/"
        },
        "outputId": "168aad43-0134-49dd-b5f2-e33812099277"
      },
      "execution_count": null,
      "outputs": [
        {
          "output_type": "execute_result",
          "data": {
            "text/plain": [
              "6"
            ]
          },
          "metadata": {},
          "execution_count": 15
        }
      ]
    },
    {
      "cell_type": "markdown",
      "source": [
        "MULTIPLICATION"
      ],
      "metadata": {
        "id": "cn-Ujlk2OUY3"
      }
    },
    {
      "cell_type": "code",
      "source": [
        "A=5\n",
        "B=5\n",
        "A*B"
      ],
      "metadata": {
        "colab": {
          "base_uri": "https://localhost:8080/"
        },
        "id": "2_Dou3UtOQBC",
        "outputId": "1b416b4a-8335-4fd0-a1d4-92f76f006d2c"
      },
      "execution_count": null,
      "outputs": [
        {
          "output_type": "execute_result",
          "data": {
            "text/plain": [
              "25"
            ]
          },
          "metadata": {},
          "execution_count": 16
        }
      ]
    },
    {
      "cell_type": "markdown",
      "source": [
        "DIVISION"
      ],
      "metadata": {
        "id": "NZiNtOSMOdax"
      }
    },
    {
      "cell_type": "code",
      "source": [
        "A=10\n",
        "B=5\n",
        "A/B"
      ],
      "metadata": {
        "colab": {
          "base_uri": "https://localhost:8080/"
        },
        "id": "HC5v9yntObO_",
        "outputId": "190cf672-93d2-4c5a-fa5b-7124a1562aa1"
      },
      "execution_count": null,
      "outputs": [
        {
          "output_type": "execute_result",
          "data": {
            "text/plain": [
              "2.0"
            ]
          },
          "metadata": {},
          "execution_count": 17
        }
      ]
    },
    {
      "cell_type": "markdown",
      "source": [
        "2. COMPARISON OPERATORS: THESE OPERATORS COMPARE VALUES AND RETURN TRUE OR FALSE.EXAMPLES ARE <,>,>=,<=,==,!="
      ],
      "metadata": {
        "id": "dwr3VLcwS4q9"
      }
    },
    {
      "cell_type": "code",
      "source": [
        "2==2\n",
        "A=2\n",
        "2"
      ],
      "metadata": {
        "colab": {
          "base_uri": "https://localhost:8080/"
        },
        "id": "donOMCL7TYpj",
        "outputId": "6587af84-544d-4f60-b89b-b78805ffc44e"
      },
      "execution_count": null,
      "outputs": [
        {
          "output_type": "execute_result",
          "data": {
            "text/plain": [
              "2"
            ]
          },
          "metadata": {},
          "execution_count": 20
        }
      ]
    },
    {
      "cell_type": "code",
      "source": [
        "A=55\n",
        "B=65\n",
        "A>B"
      ],
      "metadata": {
        "colab": {
          "base_uri": "https://localhost:8080/"
        },
        "id": "TcWLYLNTTiAO",
        "outputId": "5ee4483c-740b-488b-9520-56fd3f555873"
      },
      "execution_count": null,
      "outputs": [
        {
          "output_type": "execute_result",
          "data": {
            "text/plain": [
              "False"
            ]
          },
          "metadata": {},
          "execution_count": 21
        }
      ]
    },
    {
      "cell_type": "code",
      "source": [
        "A=80\n",
        "B=50\n",
        "A>B"
      ],
      "metadata": {
        "colab": {
          "base_uri": "https://localhost:8080/"
        },
        "id": "a4vnbej3T80N",
        "outputId": "a89b28d2-3863-4ca8-943c-b5fd77c663d0"
      },
      "execution_count": null,
      "outputs": [
        {
          "output_type": "execute_result",
          "data": {
            "text/plain": [
              "True"
            ]
          },
          "metadata": {},
          "execution_count": 22
        }
      ]
    },
    {
      "cell_type": "markdown",
      "source": [
        "3.LOGICAL OPERATORS: THESE OPERATORS ARE USED TO PERFORM LOGICAL OPERATIONS. EXAMPLES ARE AND, OR, NOT\n"
      ],
      "metadata": {
        "id": "-r74l8dYUKfo"
      }
    },
    {
      "cell_type": "code",
      "source": [
        "A=50\n",
        "B=60\n",
        "(A>100)or(B<10)\n"
      ],
      "metadata": {
        "colab": {
          "base_uri": "https://localhost:8080/"
        },
        "id": "cyo-dq5XUKBX",
        "outputId": "1982e167-c9a1-4fc1-97ba-5d83179b59fb"
      },
      "execution_count": null,
      "outputs": [
        {
          "output_type": "execute_result",
          "data": {
            "text/plain": [
              "False"
            ]
          },
          "metadata": {},
          "execution_count": 29
        }
      ]
    },
    {
      "cell_type": "code",
      "source": [
        "A=15\n",
        "B=20\n",
        "(A>10)and(B<30)"
      ],
      "metadata": {
        "id": "JU2taGzAUHNx",
        "colab": {
          "base_uri": "https://localhost:8080/"
        },
        "outputId": "54776732-67ce-47da-e2df-ac1e5f696247"
      },
      "execution_count": null,
      "outputs": [
        {
          "output_type": "execute_result",
          "data": {
            "text/plain": [
              "True"
            ]
          },
          "metadata": {},
          "execution_count": 30
        }
      ]
    },
    {
      "cell_type": "markdown",
      "source": [
        "4.BITWISE OPERATORS: THESE OPERATORS PERFORM OPERATIONS AT THE BINARY LEVEL. EXAMPLES, AND,OR,XOR,NOT, LEFT SHIFT <<, right SHIFT >>."
      ],
      "metadata": {
        "id": "7Y8YCvmHd3sy"
      }
    },
    {
      "cell_type": "code",
      "source": [
        "A=14\n",
        "B=4\n",
        "A&B"
      ],
      "metadata": {
        "colab": {
          "base_uri": "https://localhost:8080/"
        },
        "id": "q50mrWcQdzSI",
        "outputId": "c923a88c-e92c-4781-b2d2-589c26c7f1ba"
      },
      "execution_count": null,
      "outputs": [
        {
          "output_type": "execute_result",
          "data": {
            "text/plain": [
              "4"
            ]
          },
          "metadata": {},
          "execution_count": 31
        }
      ]
    },
    {
      "cell_type": "code",
      "source": [
        "A=12\n",
        "B=4\n",
        "A/B"
      ],
      "metadata": {
        "colab": {
          "base_uri": "https://localhost:8080/"
        },
        "id": "7Su1JRUweyEI",
        "outputId": "60bab932-5546-4c04-debc-42da843f5a20"
      },
      "execution_count": null,
      "outputs": [
        {
          "output_type": "execute_result",
          "data": {
            "text/plain": [
              "3.0"
            ]
          },
          "metadata": {},
          "execution_count": 32
        }
      ]
    },
    {
      "cell_type": "code",
      "source": [
        "\n",
        "A=12\n",
        "B=5\n",
        "A^B"
      ],
      "metadata": {
        "colab": {
          "base_uri": "https://localhost:8080/"
        },
        "id": "SNX1yatEe_Z4",
        "outputId": "44bc252d-aadd-4264-d2f1-6daf2f5fbbc6"
      },
      "execution_count": null,
      "outputs": [
        {
          "output_type": "execute_result",
          "data": {
            "text/plain": [
              "9"
            ]
          },
          "metadata": {},
          "execution_count": 33
        }
      ]
    },
    {
      "cell_type": "code",
      "source": [
        "A=12\n",
        "B=5\n",
        "A<<2"
      ],
      "metadata": {
        "colab": {
          "base_uri": "https://localhost:8080/"
        },
        "id": "rrlPwA7VfHmw",
        "outputId": "1a5b615b-1661-4b87-d5cc-3a7b7f01467c"
      },
      "execution_count": null,
      "outputs": [
        {
          "output_type": "execute_result",
          "data": {
            "text/plain": [
              "48"
            ]
          },
          "metadata": {},
          "execution_count": 34
        }
      ]
    },
    {
      "cell_type": "code",
      "source": [
        "A=14\n",
        "B=4\n",
        "A>>2"
      ],
      "metadata": {
        "colab": {
          "base_uri": "https://localhost:8080/"
        },
        "id": "jRnASc4efPO7",
        "outputId": "73199f52-5db4-49b8-eb39-370164376367"
      },
      "execution_count": null,
      "outputs": [
        {
          "output_type": "execute_result",
          "data": {
            "text/plain": [
              "3"
            ]
          },
          "metadata": {},
          "execution_count": 35
        }
      ]
    },
    {
      "cell_type": "code",
      "source": [],
      "metadata": {
        "id": "zIGv6oHbfTlQ"
      },
      "execution_count": null,
      "outputs": []
    },
    {
      "cell_type": "markdown",
      "source": [
        "#QUESTION 5: EXPLAIN TYPE CASTING IN PYTHON WITH EXAMPLE?\n",
        "ANSWER: TYPE CASTING IN PYTHON REFERS TO CONVERTING ONE DATA TYPE INTO ANOTHER..\n",
        "PYTHON PROVIDES BUILT-IN FUNCTIONS TO DIRECTLY CONVERT THE DATA TYPE OF A VARIABLE INTO THE DESIRED VALUE.EXAMPLES\n",
        "1. CHANGE STRING INTO INTEGER.\n"
      ],
      "metadata": {
        "id": "pr2jlzNpfVnb"
      }
    },
    {
      "cell_type": "code",
      "source": [
        "st=\"120\"\n",
        "result=int(st)\n",
        "result"
      ],
      "metadata": {
        "colab": {
          "base_uri": "https://localhost:8080/"
        },
        "id": "h00TGiFaaSCW",
        "outputId": "6857cd18-8d1c-47ae-ccfc-d171da0f1a37"
      },
      "execution_count": null,
      "outputs": [
        {
          "output_type": "execute_result",
          "data": {
            "text/plain": [
              "120"
            ]
          },
          "metadata": {},
          "execution_count": 1
        }
      ]
    },
    {
      "cell_type": "code",
      "source": [
        "type(result)"
      ],
      "metadata": {
        "colab": {
          "base_uri": "https://localhost:8080/"
        },
        "id": "vwNEB6NCaYjp",
        "outputId": "a380594b-60a3-472b-e4a7-ccfe49ff11eb"
      },
      "execution_count": null,
      "outputs": [
        {
          "output_type": "execute_result",
          "data": {
            "text/plain": [
              "int"
            ]
          },
          "metadata": {},
          "execution_count": 4
        }
      ]
    },
    {
      "cell_type": "markdown",
      "source": [
        "2. CHANGE FLOAT INTO INTEGER."
      ],
      "metadata": {
        "id": "21lJd7eqai6H"
      }
    },
    {
      "cell_type": "code",
      "source": [
        "floa_t=12.3\n",
        "result=int(floa_t)\n",
        "result"
      ],
      "metadata": {
        "colab": {
          "base_uri": "https://localhost:8080/"
        },
        "id": "fhyrVE_TapYv",
        "outputId": "36711eae-5dc2-45ff-8a6f-c5d5996a959a"
      },
      "execution_count": null,
      "outputs": [
        {
          "output_type": "execute_result",
          "data": {
            "text/plain": [
              "12"
            ]
          },
          "metadata": {},
          "execution_count": 3
        }
      ]
    },
    {
      "cell_type": "code",
      "source": [
        "type(result)"
      ],
      "metadata": {
        "colab": {
          "base_uri": "https://localhost:8080/"
        },
        "id": "CEqlMLNBay0J",
        "outputId": "edcc8bc9-2195-43a4-ebc2-8cbdda661c0f"
      },
      "execution_count": null,
      "outputs": [
        {
          "output_type": "execute_result",
          "data": {
            "text/plain": [
              "int"
            ]
          },
          "metadata": {},
          "execution_count": 5
        }
      ]
    },
    {
      "cell_type": "code",
      "source": [],
      "metadata": {
        "id": "4GwoIdWSbC5f"
      },
      "execution_count": null,
      "outputs": []
    },
    {
      "cell_type": "markdown",
      "source": [
        "3. CHANGE INTEGER INTO FLOAT."
      ],
      "metadata": {
        "id": "1qpp2QptbGab"
      }
    },
    {
      "cell_type": "code",
      "source": [
        "inte= 456\n",
        "result=float(inte)\n",
        "result"
      ],
      "metadata": {
        "colab": {
          "base_uri": "https://localhost:8080/"
        },
        "id": "v92VrWwVbYwX",
        "outputId": "fb924bc7-2c20-495a-f55d-98bcd7bc9b3c"
      },
      "execution_count": null,
      "outputs": [
        {
          "output_type": "execute_result",
          "data": {
            "text/plain": [
              "456.0"
            ]
          },
          "metadata": {},
          "execution_count": 6
        }
      ]
    },
    {
      "cell_type": "code",
      "source": [
        "type(result)"
      ],
      "metadata": {
        "colab": {
          "base_uri": "https://localhost:8080/"
        },
        "id": "j8eqK0RZbfPI",
        "outputId": "59669e4d-9890-4344-aa85-216d81c26ae4"
      },
      "execution_count": null,
      "outputs": [
        {
          "output_type": "execute_result",
          "data": {
            "text/plain": [
              "float"
            ]
          },
          "metadata": {},
          "execution_count": 7
        }
      ]
    },
    {
      "cell_type": "code",
      "source": [],
      "metadata": {
        "id": "T4lMjTCEbqCT"
      },
      "execution_count": null,
      "outputs": []
    },
    {
      "cell_type": "markdown",
      "source": [
        "4.TUPLE INTO LIST."
      ],
      "metadata": {
        "id": "gx-TFSf0bsXC"
      }
    },
    {
      "cell_type": "code",
      "source": [
        "tup=(1,2,3,4,5)\n",
        "result=list(tup)\n",
        "result"
      ],
      "metadata": {
        "colab": {
          "base_uri": "https://localhost:8080/"
        },
        "id": "sZJKArNmbwYr",
        "outputId": "c7cb504c-41e7-4212-ddde-e5a2dd9b9b7f"
      },
      "execution_count": null,
      "outputs": [
        {
          "output_type": "execute_result",
          "data": {
            "text/plain": [
              "[1, 2, 3, 4, 5]"
            ]
          },
          "metadata": {},
          "execution_count": 8
        }
      ]
    },
    {
      "cell_type": "code",
      "source": [
        "type(result)"
      ],
      "metadata": {
        "colab": {
          "base_uri": "https://localhost:8080/"
        },
        "id": "dqDRFNUIb4s6",
        "outputId": "3003b941-9d80-4a1f-9fbe-fe80010f60b4"
      },
      "execution_count": null,
      "outputs": [
        {
          "output_type": "execute_result",
          "data": {
            "text/plain": [
              "list"
            ]
          },
          "metadata": {},
          "execution_count": 9
        }
      ]
    },
    {
      "cell_type": "code",
      "source": [],
      "metadata": {
        "id": "aLONA3hab7vu"
      },
      "execution_count": null,
      "outputs": []
    },
    {
      "cell_type": "markdown",
      "source": [
        "5.LIST INTO TUPLE\n"
      ],
      "metadata": {
        "id": "p411ptIdb-Kn"
      }
    },
    {
      "cell_type": "code",
      "source": [
        "li=(1,2,3,4,5)\n",
        "result=tuple(li)\n",
        "result"
      ],
      "metadata": {
        "colab": {
          "base_uri": "https://localhost:8080/"
        },
        "id": "CT0ogZVqcDPT",
        "outputId": "86f2d8a5-ab5f-4918-a14b-d90a2fde9aec"
      },
      "execution_count": null,
      "outputs": [
        {
          "output_type": "execute_result",
          "data": {
            "text/plain": [
              "(1, 2, 3, 4, 5)"
            ]
          },
          "metadata": {},
          "execution_count": 11
        }
      ]
    },
    {
      "cell_type": "code",
      "source": [
        "type(result)"
      ],
      "metadata": {
        "colab": {
          "base_uri": "https://localhost:8080/"
        },
        "id": "bjQi2Cl0cMSy",
        "outputId": "b9fb9a8e-025b-4aba-c50f-01ff38cf6aa5"
      },
      "execution_count": null,
      "outputs": [
        {
          "output_type": "execute_result",
          "data": {
            "text/plain": [
              "tuple"
            ]
          },
          "metadata": {},
          "execution_count": 12
        }
      ]
    },
    {
      "cell_type": "markdown",
      "source": [
        "#QUESTION 6: HOW CONDITIONAL STATEMENT WORK IN PYTHON? ILLUSTRATE WITH EXAMPLE.\n",
        "ANSWER: A CONDITIONAL STATEMENTS ARE USED TO PERFORM DIFFERENT ACTIONS BASED ON DIFFERENT CONDITIONS. THE PRIMARY CONDITIONAL STATEMENTS INCLUDE IF, ELSE, AND ELSE.\n",
        "1. IF STATEMENT"
      ],
      "metadata": {
        "id": "8PJEHFAdg3ee"
      }
    },
    {
      "cell_type": "code",
      "source": [
        "number=10\n",
        "if number >5:\n",
        "    print(\"The number is greater than 5\")\n"
      ],
      "metadata": {
        "colab": {
          "base_uri": "https://localhost:8080/"
        },
        "id": "pasnkgO1ho7Y",
        "outputId": "aeba72c2-d2ae-4dc3-99ff-e1ff277cf263"
      },
      "execution_count": null,
      "outputs": [
        {
          "output_type": "stream",
          "name": "stdout",
          "text": [
            "The number is greater than 5\n"
          ]
        }
      ]
    },
    {
      "cell_type": "code",
      "source": [],
      "metadata": {
        "id": "KTU2nLAccShs"
      },
      "execution_count": null,
      "outputs": []
    },
    {
      "cell_type": "markdown",
      "source": [
        "2.IF ELSE STATEMENT"
      ],
      "metadata": {
        "id": "jEmewJ5kh-Vj"
      }
    },
    {
      "cell_type": "code",
      "source": [
        "number=2\n",
        "if number >5:\n",
        "    print(\"The number is greater than 5\")\n",
        "else:\n",
        "    print(\"The number is not greater than 5\")"
      ],
      "metadata": {
        "colab": {
          "base_uri": "https://localhost:8080/"
        },
        "id": "9EpXlS6ciFpq",
        "outputId": "3c4aa1a5-0204-4c94-8301-8d67ecbe377f"
      },
      "execution_count": null,
      "outputs": [
        {
          "output_type": "stream",
          "name": "stdout",
          "text": [
            "The number is not greater than 5\n"
          ]
        }
      ]
    },
    {
      "cell_type": "code",
      "source": [],
      "metadata": {
        "id": "iVdtHIJGiU0C"
      },
      "execution_count": null,
      "outputs": []
    },
    {
      "cell_type": "markdown",
      "source": [
        "3.IF ELIF ELSE STARTELEMENT."
      ],
      "metadata": {
        "id": "NluhYbolipAU"
      }
    },
    {
      "cell_type": "code",
      "source": [
        "age=int(input(\"11\"))\n",
        "if age<18:\n",
        "    print(\"You are minority\")\n",
        "elif 18<age<=65:\n",
        "     print(\"You are adult\")\n",
        "else:\n",
        "      print(\"You are senior citizen\")"
      ],
      "metadata": {
        "colab": {
          "base_uri": "https://localhost:8080/"
        },
        "id": "aRohx46Ci1Ii",
        "outputId": "af3258ba-7ed5-413b-e568-f2a67831f0fa"
      },
      "execution_count": null,
      "outputs": [
        {
          "output_type": "stream",
          "name": "stdout",
          "text": [
            "1111\n",
            "You are minority\n"
          ]
        }
      ]
    },
    {
      "cell_type": "code",
      "source": [],
      "metadata": {
        "id": "OXyOJ8GajWcd"
      },
      "execution_count": null,
      "outputs": []
    },
    {
      "cell_type": "markdown",
      "source": [
        "4.NESTED IF-ELSE STATEMENT.\n"
      ],
      "metadata": {
        "id": "m0JANMW0joou"
      }
    },
    {
      "cell_type": "code",
      "source": [
        "number=15\n",
        "if number >10:\n",
        "    print(\"The number is greater than 10\")\n",
        "    if number % 2 ==0:\n",
        "        print(\"The number is even\")\n",
        "    else:\n",
        "         print(\"The number is odd\")\n",
        "\n"
      ],
      "metadata": {
        "colab": {
          "base_uri": "https://localhost:8080/"
        },
        "id": "iDPKEiSXj15O",
        "outputId": "20f1ddf1-7470-4056-e215-8a0e97e9140b"
      },
      "execution_count": null,
      "outputs": [
        {
          "output_type": "stream",
          "name": "stdout",
          "text": [
            "The number is greater than 10\n",
            "The number is odd\n"
          ]
        }
      ]
    },
    {
      "cell_type": "markdown",
      "source": [
        " #QUESTION 7: DESCRIBE THE DIFFERENT TYPE OF LOOPS IN PYTHON AND THEIR USE CASE WITH EXAMPLE?\n",
        " ANSWER: THERE ARE TWO PRIMARY TYPES OF LOOPS. FOR LOOP AND WHILE LOOP.\n",
        " 1. for LOOP: IT IS USED TO ITERATE OVER A SEQUENCE .\n",
        " EXAMPLE"
      ],
      "metadata": {
        "id": "oxir7zpeklie"
      }
    },
    {
      "cell_type": "code",
      "source": [
        "fruits=[\"apple\", \"banana\", \"cherry\"]\n",
        "for fruit in fruits:\n",
        "    print(fruit)"
      ],
      "metadata": {
        "colab": {
          "base_uri": "https://localhost:8080/"
        },
        "id": "rsbFnbKgloKQ",
        "outputId": "2c45e6ad-0b73-4060-b950-0caabf506884"
      },
      "execution_count": null,
      "outputs": [
        {
          "output_type": "stream",
          "name": "stdout",
          "text": [
            "apple\n",
            "banana\n",
            "cherry\n"
          ]
        }
      ]
    },
    {
      "cell_type": "code",
      "source": [
        "for i in range(5):\n",
        "    print(i)"
      ],
      "metadata": {
        "colab": {
          "base_uri": "https://localhost:8080/"
        },
        "id": "RMlBmCRrnNeL",
        "outputId": "2641b3b9-ad8d-4250-a60b-a55545fc5079"
      },
      "execution_count": null,
      "outputs": [
        {
          "output_type": "stream",
          "name": "stdout",
          "text": [
            "0\n",
            "1\n",
            "2\n",
            "3\n",
            "4\n"
          ]
        }
      ]
    },
    {
      "cell_type": "code",
      "source": [
        "for char in \"python\":\n",
        "    print(char)"
      ],
      "metadata": {
        "colab": {
          "base_uri": "https://localhost:8080/"
        },
        "id": "4OQwjqv5njSL",
        "outputId": "53c245aa-697a-4cea-c036-699ecdb18059"
      },
      "execution_count": null,
      "outputs": [
        {
          "output_type": "stream",
          "name": "stdout",
          "text": [
            "p\n",
            "y\n",
            "t\n",
            "h\n",
            "o\n",
            "n\n"
          ]
        }
      ]
    },
    {
      "cell_type": "code",
      "source": [],
      "metadata": {
        "id": "sJCvX47cnwZl"
      },
      "execution_count": null,
      "outputs": []
    },
    {
      "cell_type": "markdown",
      "source": [
        "2.while LOOP : IT KEEPS EXECUTING A BLOCK OF CODE AS LONG AS A SPECIFIED CONDITION IS TRUE."
      ],
      "metadata": {
        "id": "M5hjhgOxn0en"
      }
    },
    {
      "cell_type": "code",
      "source": [
        "i=1\n",
        "while i <=5:\n",
        "    print(i)\n",
        "    i+=1"
      ],
      "metadata": {
        "colab": {
          "base_uri": "https://localhost:8080/"
        },
        "id": "7h8gzRUfoCNf",
        "outputId": "896f8628-cbb3-45e5-8e53-73fa772155ac"
      },
      "execution_count": null,
      "outputs": [
        {
          "output_type": "stream",
          "name": "stdout",
          "text": [
            "1\n",
            "2\n",
            "3\n",
            "4\n",
            "5\n"
          ]
        }
      ]
    },
    {
      "cell_type": "code",
      "source": [
        "number=10\n",
        "while number >0:\n",
        "    print(\"Number is:\",number)\n",
        "    number-=2"
      ],
      "metadata": {
        "colab": {
          "base_uri": "https://localhost:8080/"
        },
        "id": "SNWVZUY-oLqx",
        "outputId": "8b4cea36-1d65-43ab-99a1-a3cb0459a238"
      },
      "execution_count": null,
      "outputs": [
        {
          "output_type": "stream",
          "name": "stdout",
          "text": [
            "Number is: 10\n",
            "Number is: 8\n",
            "Number is: 6\n",
            "Number is: 4\n",
            "Number is: 2\n"
          ]
        }
      ]
    },
    {
      "cell_type": "markdown",
      "source": [
        "3.NESTED LOOPS: PYTHON ALLOWS LOOPS TO BE NESTED, MEANING WE CAN PLACE ONE LOOP INSIDE ANOTHER."
      ],
      "metadata": {
        "id": "GbSWNDorosqP"
      }
    },
    {
      "cell_type": "code",
      "source": [
        "for i in range (1,4):\n",
        "    for j in range (1,4):\n",
        "        print(f\"i= {i}, j={j}\")"
      ],
      "metadata": {
        "colab": {
          "base_uri": "https://localhost:8080/"
        },
        "id": "DbMyMYjvo4xw",
        "outputId": "1245bdb6-a662-460a-9daf-5247e41bab71"
      },
      "execution_count": null,
      "outputs": [
        {
          "output_type": "stream",
          "name": "stdout",
          "text": [
            "i= 1, j=1\n",
            "i= 1, j=2\n",
            "i= 1, j=3\n",
            "i= 2, j=1\n",
            "i= 2, j=2\n",
            "i= 2, j=3\n",
            "i= 3, j=1\n",
            "i= 3, j=2\n",
            "i= 3, j=3\n"
          ]
        }
      ]
    },
    {
      "cell_type": "code",
      "source": [],
      "metadata": {
        "id": "JEHB4keEpOML"
      },
      "execution_count": null,
      "outputs": []
    },
    {
      "cell_type": "markdown",
      "source": [
        "4.LOOP CONTROL STATEMENTS: IT INCLUDES\n",
        "USING BREAK"
      ],
      "metadata": {
        "id": "OBAx5fr2pU6C"
      }
    },
    {
      "cell_type": "code",
      "source": [
        "for i in range(1,  10):\n",
        "    if i == 5:\n",
        "        break\n",
        "    print(i)\n"
      ],
      "metadata": {
        "colab": {
          "base_uri": "https://localhost:8080/"
        },
        "id": "SNxXC86RpjGB",
        "outputId": "28fb506d-279d-4379-ec9d-0ee608a65e54"
      },
      "execution_count": null,
      "outputs": [
        {
          "output_type": "stream",
          "name": "stdout",
          "text": [
            "1\n",
            "2\n",
            "3\n",
            "4\n"
          ]
        }
      ]
    },
    {
      "cell_type": "markdown",
      "source": [
        "USING CONTINUE."
      ],
      "metadata": {
        "id": "6rK-bbFuqFaw"
      }
    },
    {
      "cell_type": "code",
      "source": [
        "for i in range(1,  6):\n",
        "     if i == 3:\n",
        "         continue\n",
        "     print(i)"
      ],
      "metadata": {
        "colab": {
          "base_uri": "https://localhost:8080/"
        },
        "id": "TbBcyNhMp4dJ",
        "outputId": "e0d13801-ea3b-4f0e-d331-29ec9137cb0e"
      },
      "execution_count": null,
      "outputs": [
        {
          "output_type": "stream",
          "name": "stdout",
          "text": [
            "1\n",
            "2\n",
            "4\n",
            "5\n"
          ]
        }
      ]
    },
    {
      "cell_type": "markdown",
      "source": [],
      "metadata": {
        "id": "AjIcZb3zqETi"
      }
    },
    {
      "cell_type": "markdown",
      "source": [
        "5.INFINITE LOOPS: IF A LOOP CONDITION NEVER BECOMES FALSE, IT CAN RESULT IN AN INFINITE LOOP. EXAMPLE"
      ],
      "metadata": {
        "id": "aX55X9N5qdBJ"
      }
    },
    {
      "cell_type": "code",
      "source": [
        "while True:\n",
        "    print(This is an infinite loop!\")\n",
        "    This loop will run forever unless its interrupted."
      ],
      "metadata": {
        "id": "AtFlpKAQqzVl"
      },
      "execution_count": null,
      "outputs": []
    }
  ]
}